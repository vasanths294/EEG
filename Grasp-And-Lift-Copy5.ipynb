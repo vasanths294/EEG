{
 "cells": [
  {
   "cell_type": "code",
   "execution_count": 1,
   "metadata": {},
   "outputs": [],
   "source": [
    "import warnings\n",
    "warnings.filterwarnings('ignore')"
   ]
  },
  {
   "cell_type": "code",
   "execution_count": 2,
   "metadata": {},
   "outputs": [],
   "source": [
    "import numpy as np\n",
    "import pandas as pd\n",
    "\n",
    "from sklearn.linear_model import LogisticRegression\n",
    "from sklearn.tree import DecisionTreeClassifier\n",
    "from sklearn.neighbors import KNeighborsClassifier\n",
    "from sklearn.discriminant_analysis import LinearDiscriminantAnalysis\n",
    "from sklearn.naive_bayes import GaussianNB\n",
    "from sklearn.svm import SVC\n",
    "\n",
    "from glob import glob\n",
    "import os\n",
    "\n",
    "from sklearn.preprocessing import StandardScaler\n",
    "from sklearn.metrics import mean_squared_error"
   ]
  },
  {
   "cell_type": "code",
   "execution_count": 3,
   "metadata": {},
   "outputs": [],
   "source": [
    "################ function to read data ################\n",
    "\n",
    "def prepare_data(fname):\n",
    "    \"\"\" read and prepare training data \"\"\"\n",
    "    # Read data\n",
    "    data = pd.read_csv(fname)\n",
    "    # events file\n",
    "    events_fname = fname.replace('_data','_events')\n",
    "    # read event file\n",
    "    labels= pd.read_csv(events_fname)\n",
    "    clean=data.drop(['id' ], axis=1)#remove id\n",
    "    labels=labels.drop(['id' ], axis=1)#remove id\n",
    "    return  clean,labels\n",
    "\n",
    "\n",
    "scaler= StandardScaler()\n",
    "\n",
    "def data_preprocess(X):\n",
    "    X_prep=scaler.fit_transform(X)\n",
    "    return X_prep"
   ]
  },
  {
   "cell_type": "code",
   "execution_count": 4,
   "metadata": {},
   "outputs": [],
   "source": [
    "################ columns name for labels ################\n",
    "\n",
    "cols = ['HandStart','FirstDigitTouch',\n",
    "        'BothStartLoadPhase','LiftOff',\n",
    "        'Replace','BothReleased']"
   ]
  },
  {
   "cell_type": "code",
   "execution_count": 5,
   "metadata": {},
   "outputs": [],
   "source": [
    "################ number of subjects ################\n",
    "\n",
    "train_subjects = range(1,11)\n",
    "test_subjects = range(11,13)\n"
   ]
  },
  {
   "cell_type": "code",
   "execution_count": null,
   "metadata": {},
   "outputs": [],
   "source": [
    "for subject in train_subjects:\n",
    "    y_raw= []\n",
    "    raw = []\n",
    "    \n",
    "    ################ READ DATA ################\n",
    "    \n",
    "    fnames =  glob('./train/subj%d_series*_data.csv' % (subject))\n",
    "    \n",
    "    for fname in fnames:\n",
    "      data,labels=prepare_data(fname)\n",
    "      raw.append(data)\n",
    "      y_raw.append(labels)\n",
    "\n",
    "    X = pd.concat(raw)\n",
    "    y = pd.concat(y_raw)\n",
    "\n",
    "    X_train =np.asarray(X.astype(float))\n",
    "    y = np.asarray(y.astype(float))\n",
    "\n",
    "for subject in test_subjects:\n",
    "    y_raw= []\n",
    "    raw = []\n",
    "    \n",
    "    ################ READ DATA ################\n",
    "    \n",
    "    fnames =  glob('./train/subj%d_series*_data.csv' % (subject))\n",
    "    for fname in fnames:\n",
    "      data,labels=prepare_data(fname)\n",
    "      raw.append(data)\n",
    "      y_raw.append(labels)\n",
    "\n",
    "    X_test = pd.concat(raw)\n",
    "    y_test = pd.concat(y_raw)\n",
    "\n",
    "    X_test =np.asarray(X_test.astype(float))\n",
    "    y_test = np.asarray(y_test.astype(float))\n",
    "\n",
    "\n",
    "################ Train classifiers ################\n",
    "\n",
    "lr = KNeighborsClassifier()\n",
    "X_train=data_preprocess(X_train)\n",
    "X_test=data_preprocess(X_test)\n",
    "\n",
    "for i in range(6):\n",
    "    y_train_subj = y[:,i]\n",
    "    y_test_subj = y_test[:,i]\n",
    "    \n",
    "    lr.fit(X_train[::],y_train_subj[::])\n",
    "    \n",
    "    y_train_pred = lr.predict_proba(X_train)[:,1]\n",
    "    y_test_pred = lr.predict_proba(X_test)[:,1]\n",
    "    \n",
    "    print(\"\\nTrain accuracy for \" + cols[i] + \" : \" + str(1-mean_squared_error(y_train_subj, y_train_pred)))\n",
    "    print(\"Test accuracy for \" + cols[i] + \" : \" + str(1-mean_squared_error(y_test_subj, y_test_pred)))\n"
   ]
  },
  {
   "cell_type": "code",
   "execution_count": null,
   "metadata": {},
   "outputs": [],
   "source": []
  }
 ],
 "metadata": {
  "kernelspec": {
   "display_name": "Python 2",
   "language": "python",
   "name": "python2"
  },
  "language_info": {
   "codemirror_mode": {
    "name": "ipython",
    "version": 2
   },
   "file_extension": ".py",
   "mimetype": "text/x-python",
   "name": "python",
   "nbconvert_exporter": "python",
   "pygments_lexer": "ipython2",
   "version": "2.7.15"
  }
 },
 "nbformat": 4,
 "nbformat_minor": 2
}
